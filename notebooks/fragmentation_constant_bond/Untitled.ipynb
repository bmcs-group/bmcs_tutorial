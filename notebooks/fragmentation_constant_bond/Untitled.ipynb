{
 "cells": [
  {
   "cell_type": "code",
   "execution_count": 1,
   "id": "e6622aca-0d60-4726-ba98-6c76c60d4bcf",
   "metadata": {},
   "outputs": [],
   "source": [
    "import numpy as np"
   ]
  },
  {
   "cell_type": "code",
   "execution_count": 2,
   "id": "e4ee9af9-a2c4-43b2-b879-527035eb1d0f",
   "metadata": {},
   "outputs": [],
   "source": [
    "y = np.array([0, 1, 2, 3])\n",
    "Py = np.array([0.7, 0.15, 0.1, 0.05])"
   ]
  },
  {
   "cell_type": "code",
   "execution_count": 9,
   "id": "935909f6-b056-4ef8-b6a1-c29a5fc3c91b",
   "metadata": {},
   "outputs": [
    {
     "data": {
      "text/plain": [
       "0.5"
      ]
     },
     "execution_count": 9,
     "metadata": {},
     "output_type": "execute_result"
    }
   ],
   "source": [
    "y_bar = np.sum(Py * y)\n",
    "y_bar"
   ]
  },
  {
   "cell_type": "code",
   "execution_count": 10,
   "id": "66728ecd-3e94-49cc-a032-f4ceda0013b0",
   "metadata": {},
   "outputs": [
    {
     "data": {
      "text/plain": [
       "3.0"
      ]
     },
     "execution_count": 10,
     "metadata": {},
     "output_type": "execute_result"
    }
   ],
   "source": [
    "np.sum((y_bar - y)**2) / (len(y)-1)"
   ]
  },
  {
   "cell_type": "code",
   "execution_count": null,
   "id": "e8e2da91-e655-4f83-8eab-209c59ed08ac",
   "metadata": {},
   "outputs": [],
   "source": []
  }
 ],
 "metadata": {
  "kernelspec": {
   "display_name": "bmcs_env",
   "language": "python",
   "name": "bmcs_env"
  },
  "language_info": {
   "codemirror_mode": {
    "name": "ipython",
    "version": 3
   },
   "file_extension": ".py",
   "mimetype": "text/x-python",
   "name": "python",
   "nbconvert_exporter": "python",
   "pygments_lexer": "ipython3",
   "version": "3.8.8"
  }
 },
 "nbformat": 4,
 "nbformat_minor": 5
}
