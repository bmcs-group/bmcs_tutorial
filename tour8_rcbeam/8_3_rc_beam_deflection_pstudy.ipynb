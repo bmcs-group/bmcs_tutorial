{
 "cells": [
  {
   "cell_type": "code",
   "execution_count": null,
   "id": "civil-choir",
   "metadata": {
    "tags": []
   },
   "outputs": [],
   "source": [
    "%matplotlib widget\n",
    "import numpy as np\n",
    "from bmcs_cross_section.api import MKappa, ReinfLayer\n",
    "from bmcs_beam.api import DeflectionProfile, LoadDeflectionParamsStudy"
   ]
  },
  {
   "cell_type": "markdown",
   "id": "d269b6de-696a-4c88-9859-fc115d70cb3d",
   "metadata": {},
   "source": [
    "## Moment-curvature (cross-section level)"
   ]
  },
  {
   "cell_type": "code",
   "execution_count": null,
   "id": "5b303e6c-8ec6-42f5-891a-6504b90c2820",
   "metadata": {},
   "outputs": [],
   "source": [
    "mc = MKappa(low_kappa = 0, high_kappa = 0.00006)\n",
    "\n",
    "bl1 = ReinfLayer(z=20, A=6 * np.pi * 8 **2, matmod='steel')\n",
    "bl1.matmod_.trait_set(E=200000, f_sy=400)\n",
    "mc.cross_section_layout.add_layer(bl1)\n",
    "\n",
    "mc.interact()"
   ]
  },
  {
   "cell_type": "markdown",
   "id": "b52d97fd-32c3-4efb-bdcf-1df9c4844277",
   "metadata": {},
   "source": [
    "## Load-deflection curve (beam level)"
   ]
  },
  {
   "cell_type": "code",
   "execution_count": null,
   "id": "20adcc42-2e23-4f5f-a0ec-b4951c0561d9",
   "metadata": {},
   "outputs": [],
   "source": [
    "dp = DeflectionProfile(mc = mc)\n",
    "dp.interact()"
   ]
  },
  {
   "cell_type": "code",
   "execution_count": null,
   "id": "7f647c79",
   "metadata": {},
   "outputs": [],
   "source": [
    "mc = MKappa(low_kappa = 0, high_kappa = 0.00006)\n",
    "\n",
    "bl1 = ReinfLayer(z=20, A=6*np.pi*8**2, matmod='steel')\n",
    "bl1.matmod_.trait_set(E=200000, f_sy=400)\n",
    "mc.cross_section_layout.add_layer(bl1)\n",
    "\n",
    "bl2 = ReinfLayer(z=40, A=2*np.pi*8**2, matmod='carbon')\n",
    "bl2.matmod_.trait_set(E=160000, f_t=1890)\n",
    "mc.cross_section_layout.add_layer(bl2)\n",
    "\n",
    "mc.cs_design.matrix= 'EC2'\n",
    "# mc.cs_design.matrix= 'EC2 with plateau'\n",
    "# mc.cs_design.matrix_.trait_set(f_cm = 30, factor=1)\n",
    "\n",
    "dp = DeflectionProfile(mc = mc)\n",
    "dp.beam_design.system_.L = 3000\n",
    "\n",
    "# dp.beam_design.system = 'simple_beam_dist_load'\n",
    "# dp.beam_design.system = 'cantilever_dist_load'\n",
    "dp.beam_design.system = '3pb'\n",
    "\n",
    "dp.interact()"
   ]
  },
  {
   "cell_type": "markdown",
   "id": "3ba40a6f-2958-44d7-a532-8341e20e675e",
   "metadata": {},
   "source": [
    "## Parametric study"
   ]
  },
  {
   "cell_type": "code",
   "execution_count": null,
   "id": "66c516b5",
   "metadata": {},
   "outputs": [],
   "source": [
    "ps = LoadDeflectionParamsStudy(dp)\n",
    "params_config = [\n",
    "        ['L', dp.beam_design.system_, [3000, 5000, 6000]],\n",
    "]\n",
    "ps.run(params_config)\n",
    "pass"
   ]
  },
  {
   "cell_type": "code",
   "execution_count": null,
   "id": "609b21b7-a2ee-4ad9-8640-35459710bc10",
   "metadata": {},
   "outputs": [],
   "source": []
  }
 ],
 "metadata": {
  "kernelspec": {
   "display_name": "bmcs_env",
   "language": "python",
   "name": "bmcs_env"
  },
  "language_info": {
   "codemirror_mode": {
    "name": "ipython",
    "version": 3
   },
   "file_extension": ".py",
   "mimetype": "text/x-python",
   "name": "python",
   "nbconvert_exporter": "python",
   "pygments_lexer": "ipython3",
   "version": "3.9.0"
  },
  "toc": {
   "base_numbering": 1,
   "nav_menu": {},
   "number_sections": true,
   "sideBar": true,
   "skip_h1_title": false,
   "title_cell": "Table of Contents",
   "title_sidebar": "Contents",
   "toc_cell": false,
   "toc_position": {},
   "toc_section_display": true,
   "toc_window_display": false
  }
 },
 "nbformat": 4,
 "nbformat_minor": 5
}