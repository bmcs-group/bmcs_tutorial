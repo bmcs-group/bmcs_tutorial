{
 "cells": [
  {
   "cell_type": "markdown",
   "metadata": {},
   "source": [
    "<a id=\"top\"></a>\n",
    "# **5.2 Pullout behavior governed by damage**\n",
    "\n",
    "!!! This notebook is still under editing and and video production\n",
    "\n",
    " * Define a bond-slip law governed by damage and loading history using unloading.\n",
    " * What is different in comparison to elastic-plastic models?\n",
    " * For what materials is unloading to zero realistic?\n",
    " * Example of a CFRP behavior"
   ]
  },
  {
   "cell_type": "code",
   "execution_count": 1,
   "metadata": {},
   "outputs": [],
   "source": [
    "%matplotlib widget\n",
    "import matplotlib.pyplot as plt\n",
    "import numpy as np\n",
    "from bmcs_cross_section.pullout import PullOutModel1D\n",
    "po_cfrp = PullOutModel1D(n_e_x=100, w_max=3) # mm \n",
    "po_cfrp.geometry.L_x=300 # [mm]\n",
    "po_cfrp.time_line.step = 0.02\n",
    "po_cfrp.cross_section.trait_set(A_m=1543, A_f=16.7, P_b=10);"
   ]
  },
  {
   "cell_type": "markdown",
   "metadata": {},
   "source": [
    "## Construct the bond slip model"
   ]
  },
  {
   "cell_type": "code",
   "execution_count": 2,
   "metadata": {},
   "outputs": [
    {
     "data": {
      "application/vnd.jupyter.widget-view+json": {
       "model_id": "9198787b7650479a8affdda46dfc6eff",
       "version_major": 2,
       "version_minor": 0
      },
      "text/plain": [
       "VBox(children=(HBox(children=(VBox(children=(Tree(layout=Layout(align_items='stretch', border='solid 1px black…"
      ]
     },
     "metadata": {},
     "output_type": "display_data"
    }
   ],
   "source": [
    "po_cfrp.material_model='damage'\n",
    "po_cfrp.material_model_.s_max=0.05\n",
    "po_cfrp.material_model_.omega_fn='weibull-CDF'\n",
    "po_cfrp.material_model_.omega_fn_.trait_set(lambda_=0.02)\n",
    "po_cfrp.material_model_.interact()"
   ]
  },
  {
   "cell_type": "code",
   "execution_count": 3,
   "metadata": {},
   "outputs": [
    {
     "data": {
      "text/latex": [
       "$\\displaystyle 1 - \\begin{cases} 1 & \\text{for}\\: \\kappa < \\kappa_{0} \\\\e^{\\frac{\\left(\\kappa - \\kappa_{0}\\right) \\left(\\sqrt{E_{b}} \\sqrt{- E_{b} \\kappa_{0}^{2} + 4 G_{f}} + E_{b} \\kappa_{0}\\right)}{E_{b} \\kappa_{0}^{2} - 2 G_{f}}} & \\text{otherwise} \\end{cases}$"
      ],
      "text/plain": [
       "<ibvpy.tmodel.mats_damage_fn.GfDamageFn at 0x7f0e65c6e360>"
      ]
     },
     "execution_count": 3,
     "metadata": {},
     "output_type": "execute_result"
    }
   ],
   "source": [
    "po_cfrp.material_model='damage'\n",
    "po_cfrp.material_model_.trait_set(E_b=10000, s_max=.1)\n",
    "po_cfrp.material_model_.omega_fn='fracture-energy'\n",
    "po_cfrp.material_model_.omega_fn_.trait_set(kappa_0=0.01, G_f=10);\n",
    "po_cfrp.material_model_.omega_fn_"
   ]
  },
  {
   "cell_type": "code",
   "execution_count": 4,
   "metadata": {},
   "outputs": [
    {
     "data": {
      "application/vnd.jupyter.widget-view+json": {
       "model_id": "0db6232b2c414a23974cb1353ff152a3",
       "version_major": 2,
       "version_minor": 0
      },
      "text/plain": [
       "VBox(children=(HBox(children=(VBox(children=(Tree(layout=Layout(align_items='stretch', border='solid 1px black…"
      ]
     },
     "metadata": {},
     "output_type": "display_data"
    }
   ],
   "source": [
    "po_cfrp.material_model_.omega_fn_.interact()"
   ]
  },
  {
   "cell_type": "code",
   "execution_count": 5,
   "metadata": {},
   "outputs": [
    {
     "data": {
      "application/vnd.jupyter.widget-view+json": {
       "model_id": "07b7d6fc533e482097028c1a2ef23a6f",
       "version_major": 2,
       "version_minor": 0
      },
      "text/plain": [
       "VBox(children=(HBox(children=(VBox(children=(Tree(layout=Layout(align_items='stretch', border='solid 1px black…"
      ]
     },
     "metadata": {},
     "output_type": "display_data"
    }
   ],
   "source": [
    "po_cfrp.material_model_.D_alg = 1\n",
    "po_cfrp.material_model_.interact()"
   ]
  },
  {
   "cell_type": "code",
   "execution_count": 6,
   "metadata": {},
   "outputs": [],
   "source": [
    "po_cfrp.loading_scenario = 'cyclic'\n",
    "po_cfrp.loading_scenario_.trait_set(number_of_cycles=3,\n",
    "                              unloading_ratio=0.5,\n",
    "                               number_of_increments=200,\n",
    "                              amplitude_type='increasing',\n",
    "                              loading_range='symmetric');"
   ]
  },
  {
   "cell_type": "code",
   "execution_count": 7,
   "metadata": {},
   "outputs": [],
   "source": [
    "po_cfrp.loading_scenario = 'monotonic'\n",
    "po_cfrp.sim.tloop.k_max=1000\n",
    "po_cfrp.time_line.step=0.01\n",
    "po_cfrp.trait_set(w_max=0.6);"
   ]
  },
  {
   "cell_type": "code",
   "execution_count": 8,
   "metadata": {},
   "outputs": [],
   "source": [
    "po_cfrp.reset()\n",
    "po_cfrp.sim.run()"
   ]
  },
  {
   "cell_type": "code",
   "execution_count": 9,
   "metadata": {},
   "outputs": [
    {
     "data": {
      "application/vnd.jupyter.widget-view+json": {
       "model_id": "ed9fd153d44b4a9eb7728cc4a6f8d639",
       "version_major": 2,
       "version_minor": 0
      },
      "text/plain": [
       "VBox(children=(HBox(children=(VBox(children=(Tree(layout=Layout(align_items='stretch', border='solid 1px black…"
      ]
     },
     "metadata": {},
     "output_type": "display_data"
    }
   ],
   "source": [
    "po_cfrp.interact()"
   ]
  },
  {
   "cell_type": "code",
   "execution_count": 10,
   "metadata": {},
   "outputs": [
    {
     "data": {
      "text/latex": [
       "$\\displaystyle \\begin{cases} 0 & \\text{for}\\: \\kappa \\leq \\kappa_{0} \\\\1 - \\begin{cases} 1 & \\text{for}\\: \\kappa < \\kappa_{0} \\\\\\frac{\\kappa_{0} \\left(1 - \\frac{1 - e^{- \\frac{\\alpha \\left(\\kappa - \\kappa_{0}\\right)}{- \\kappa_{0} + \\kappa_{u}}}}{1 - e^{- \\alpha}}\\right)}{\\kappa} & \\text{for}\\: \\kappa < \\kappa_{u} \\\\0 & \\text{otherwise} \\end{cases} & \\text{otherwise} \\end{cases}$"
      ],
      "text/plain": [
       "<ibvpy.tmodel.mats_damage_fn.AbaqusDamageFn at 0x7f0e5ceb34f0>"
      ]
     },
     "execution_count": 10,
     "metadata": {},
     "output_type": "execute_result"
    }
   ],
   "source": [
    "po_cfrp.material_model_.omega_fn='abaqus'\n",
    "#po_cfrp.material_model_.omega_fn_.trait_set(s_0=0.01, G_f=10);\n",
    "po_cfrp.material_model_.omega_fn_"
   ]
  },
  {
   "cell_type": "markdown",
   "metadata": {},
   "source": [
    "<div style=\"background-color:lightgray;text-align:left;width:45%;display:inline-table;\"> <img src=\"../icons/previous.png\" alt=\"Previous trip\" width=\"50\" height=\"50\">\n",
    "    &nbsp; <a href=\"5_1_Introspect_Damage_Evolution_Damage_initiation.ipynb#top\">5.1 Interface behavior governed by damage</a> \n",
    "</div><div style=\"background-color:lightgray;text-align:center;width:10%;display:inline-table;\"> <a href=\"#top\"><img src=\"../icons/compass.png\" alt=\"Compass\" width=\"50\" height=\"50\"></a></div><div style=\"background-color:lightgray;text-align:right;width:45%;display:inline-table;\"> \n",
    "    <a href=\"../tour6_energy/6_1_energy_dissipation.ipynb#top\">6.1 Energy games</a>&nbsp; <img src=\"../icons/next.png\" alt=\"Previous trip\" width=\"50\" height=\"50\"> </div> "
   ]
  },
  {
   "cell_type": "code",
   "execution_count": null,
   "metadata": {},
   "outputs": [],
   "source": []
  }
 ],
 "metadata": {
  "kernelspec": {
   "display_name": "Python 3",
   "language": "python",
   "name": "python3"
  },
  "language_info": {
   "codemirror_mode": {
    "name": "ipython",
    "version": 3
   },
   "file_extension": ".py",
   "mimetype": "text/x-python",
   "name": "python",
   "nbconvert_exporter": "python",
   "pygments_lexer": "ipython3",
   "version": "3.8.10"
  },
  "toc": {
   "base_numbering": 1,
   "nav_menu": {},
   "number_sections": true,
   "sideBar": true,
   "skip_h1_title": true,
   "title_cell": "Table of Contents",
   "title_sidebar": "Contents",
   "toc_cell": false,
   "toc_position": {},
   "toc_section_display": true,
   "toc_window_display": false
  }
 },
 "nbformat": 4,
 "nbformat_minor": 4
}
