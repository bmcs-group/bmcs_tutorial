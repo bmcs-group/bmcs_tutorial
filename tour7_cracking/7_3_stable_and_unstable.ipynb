{
 "cells": [
  {
   "cell_type": "markdown",
   "id": "1cdb7314-aaae-4b45-8ab9-20c2e6d6e1cc",
   "metadata": {},
   "source": [
    "# **7.3 Stable and unstable crack growth and energy dissipation**"
   ]
  },
  {
   "cell_type": "code",
   "execution_count": 1,
   "id": "952140e5-b250-4e30-bcbf-5d9267719459",
   "metadata": {},
   "outputs": [],
   "source": [
    "%matplotlib widget\n",
    "from bmcs_bending.bending3pt_2d import BendingTestModel\n",
    "from ibvpy.tmodel.mats2D import MATS2DScalarDamage\n",
    "bt = BendingTestModel(material_model='scalar damage', \n",
    "                      n_e_x=6, n_e_y=16, w_max=-2, k_max=1000)\n",
    "E = 30000\n",
    "scale = 2\n",
    "f_ct = 3.3\n",
    "kappa_0 = f_ct / E\n",
    "bt.time_line.step=0.003\n",
    "bt.history.warp_factor=100\n",
    "bt.cross_section.trait_set(b=50)\n",
    "bt.geometry.trait_set(L=2000*scale, H=200*scale, a=100*scale, L_cb=1)\n",
    "bt.material_model_.trait_set(E = E, nu = 0.0) # note nu = 0.0 to avoid compressive failure\n",
    "bt.material_model_.omega_fn = 'exp-slope'\n",
    "bt.material_model_.omega_fn_.trait_set(kappa_0=kappa_0, kappa_f=0.0336)\n",
    "bt.material_model_.trait_set(D_alg=1.0, eps_max=1);"
   ]
  },
  {
   "cell_type": "code",
   "execution_count": 2,
   "id": "ff441cb8-cd3e-40d8-acf9-1b3cab56d443",
   "metadata": {},
   "outputs": [],
   "source": [
    "bt.run()"
   ]
  },
  {
   "cell_type": "code",
   "execution_count": 3,
   "id": "f13923d3-6fcd-4bfa-abe7-23008b7cebaa",
   "metadata": {},
   "outputs": [
    {
     "data": {
      "application/vnd.jupyter.widget-view+json": {
       "model_id": "a82b8771294c429a81918a3753d62df5",
       "version_major": 2,
       "version_minor": 0
      },
      "text/plain": [
       "VBox(children=(HBox(children=(VBox(children=(Tree(layout=Layout(align_items='stretch', border='solid 1px black…"
      ]
     },
     "metadata": {},
     "output_type": "display_data"
    }
   ],
   "source": [
    "bt.interact()"
   ]
  },
  {
   "cell_type": "code",
   "execution_count": 4,
   "id": "ccc12c94-0aa9-4079-8790-8aa1484b9eae",
   "metadata": {},
   "outputs": [],
   "source": [
    "%matplotlib widget\n",
    "import matplotlib.pyplot as plt\n",
    "import numpy as np\n",
    "from bmcs_cross_section.pullout import PullOutModel1D\n",
    "po_cfrp = PullOutModel1D(n_e_x=300, w_max=5) # mm \n",
    "po_cfrp.geometry.L_x=500 # [mm]\n",
    "po_cfrp.time_line.step = 0.01\n",
    "po_cfrp.cross_section.trait_set(A_m=400*200, A_f=100*0.11, P_b=100);\n",
    "po_cfrp.material_model='damage'\n",
    "po_cfrp.material_model_.trait_set(E_m=28000, E_f=230000, E_b=250, s_max=.4)\n",
    "po_cfrp.material_model_.D_alg=1 # use algorithmic stiffness\n",
    "po_cfrp.material_model_.omega_fn='fracture-energy'\n",
    "po_cfrp.material_model_.omega_fn_.trait_set(kappa_0=0.0001, G_f=1.19);"
   ]
  },
  {
   "cell_type": "code",
   "execution_count": 5,
   "id": "ea8c7314-126a-4eee-9b9a-477580ae5fa8",
   "metadata": {},
   "outputs": [],
   "source": [
    "po_cfrp.run()"
   ]
  },
  {
   "cell_type": "code",
   "execution_count": 6,
   "id": "41016401-99f8-4a65-805d-15e09ba082a4",
   "metadata": {},
   "outputs": [
    {
     "data": {
      "application/vnd.jupyter.widget-view+json": {
       "model_id": "80cbd3d82da544ed8f34e3a3eb7ba873",
       "version_major": 2,
       "version_minor": 0
      },
      "text/plain": [
       "VBox(children=(HBox(children=(VBox(children=(Tree(layout=Layout(align_items='stretch', border='solid 1px black…"
      ]
     },
     "metadata": {},
     "output_type": "display_data"
    }
   ],
   "source": [
    "po_cfrp.interact()"
   ]
  },
  {
   "cell_type": "code",
   "execution_count": null,
   "id": "b585d7d5-6528-4181-9dc8-de155cf36a90",
   "metadata": {},
   "outputs": [],
   "source": []
  },
  {
   "cell_type": "markdown",
   "id": "6b338054-7c26-4790-b1be-5bb334096bfa",
   "metadata": {},
   "source": [
    "Evaluation of the dissipated energy in a damage model is done as"
   ]
  },
  {
   "cell_type": "markdown",
   "id": "4c9866c8-8416-49b0-9121-3a64b2ba65f5",
   "metadata": {},
   "source": [
    "$$\n",
    "\\mathcal{D}_\\omega = \\int_t \\int_\\Omega Y \\dot{\\omega} \\, \\mathrm{d}\\boldsymbol{x}\\, \\mathrm{d}t\n",
    "$$"
   ]
  },
  {
   "cell_type": "markdown",
   "id": "d0e5fa5e-c535-4022-be68-bd4ff95fc5bf",
   "metadata": {},
   "source": [
    "The energy dissipated by a single material point"
   ]
  },
  {
   "cell_type": "markdown",
   "id": "24120566-b292-4112-8e1f-b180dd73cbd7",
   "metadata": {},
   "source": [
    "$$\n",
    "\\mathcal{d}_\\omega = \\int_t  Y \\dot{\\omega} \\, \\mathrm{d}t\n",
    "$$"
   ]
  },
  {
   "cell_type": "markdown",
   "id": "a4f6c37b-ad58-4e88-9c2e-30c9070e64ea",
   "metadata": {},
   "source": [
    "The specific dissipated energy evaluated using the cumulative integral"
   ]
  },
  {
   "cell_type": "markdown",
   "id": "4104fcc3-df54-4830-a2c1-26152e7bd0ce",
   "metadata": {},
   "source": [
    "$$\n",
    "\\mathcal{d}_\\omega = \\int_0^\\omega Y \\mathrm{d} \\omega\n",
    "$$"
   ]
  },
  {
   "cell_type": "code",
   "execution_count": null,
   "id": "f27831a2-1fc3-4f73-aaef-f98d1ffeb0dc",
   "metadata": {},
   "outputs": [],
   "source": []
  }
 ],
 "metadata": {
  "kernelspec": {
   "display_name": "bmcs_env",
   "language": "python",
   "name": "bmcs_env"
  },
  "language_info": {
   "codemirror_mode": {
    "name": "ipython",
    "version": 3
   },
   "file_extension": ".py",
   "mimetype": "text/x-python",
   "name": "python",
   "nbconvert_exporter": "python",
   "pygments_lexer": "ipython3",
   "version": "3.8.8"
  }
 },
 "nbformat": 4,
 "nbformat_minor": 5
}
