{
 "cells": [
  {
   "cell_type": "markdown",
   "id": "1cdb7314-aaae-4b45-8ab9-20c2e6d6e1cc",
   "metadata": {},
   "source": [
    "<a id=\"top\"></a>\n",
    "# **7.2 Fracture energy identification and size effect**"
   ]
  },
  {
   "cell_type": "markdown",
   "id": "5a656ce9-7a20-4f31-82e5-6ed57d4311e8",
   "metadata": {},
   "source": [
    "[![title](../fig/bmcs_video.png)](https://moodle.rwth-aachen.de/mod/page/view.php?id=643791)&nbsp;part 1"
   ]
  },
  {
   "cell_type": "markdown",
   "id": "55707766-c485-4a3b-a811-cc70b90099e6",
   "metadata": {},
   "source": [
    "<div style=\"background-color:lightgray;text-align:left\"> <img src=\"../icons/start_flag.png\" alt=\"Previous trip\" width=\"50\" height=\"50\">\n",
    "    &nbsp; &nbsp; <b>Starting point</b> </div> "
   ]
  },
  {
   "cell_type": "markdown",
   "id": "fbd8eb16-c1c1-4e37-8f24-821c32f463ad",
   "metadata": {},
   "source": [
    "We have learned that fracture energy plays a crucial role in the simulation of structural response of concrete elements. The crucial questions remains, how can it be determined experimentally and what is the consequence of localization within a fracture process zone for structural assessment concepts. "
   ]
  },
  {
   "cell_type": "markdown",
   "id": "7465bcb5-c7ac-4c62-9a2d-d77555c4ecfc",
   "metadata": {},
   "source": [
    "<div style=\"background-color:lightgray;text-align:left\"> <img src=\"../icons/destination.png\" alt=\"Previous trip\" width=\"50\" height=\"50\">\n",
    "    &nbsp; &nbsp; <b>Where are we heading</b> </div> "
   ]
  },
  {
   "cell_type": "markdown",
   "id": "0a445732-21ce-4a91-9268-5ac4096fbbbd",
   "metadata": {},
   "source": [
    "The knowledge of the area of a localized of a cracked specimen gives us a chance to determine the value of the total energy and divide it by the area of a crack to obtain the fracture energy. We have used this concept already in the notebook [6.3](../tour6_energy/6_3_localized_energy_dissipation.ipynb#G_F_measured) in the simulation of CFRP debonding. Let us briefly summarize the identification of the fracture energy for used to identify the value of fracture energy characterizing the concrete cracking.  "
   ]
  },
  {
   "cell_type": "markdown",
   "id": "e99690ed-a16f-4a43-aff7-037f57368f42",
   "metadata": {},
   "source": [
    "<a id=\"rilem_notched_bending_test\"></a>\n",
    "# **RILEM notched bending test**"
   ]
  },
  {
   "cell_type": "markdown",
   "id": "658a3c51-bec8-4438-a7b4-89e522125d7c",
   "metadata": {},
   "source": [
    "An isolated tensile crack, mode-I crack, can be initiated using a notched specimen.\n",
    " Why\n",
    "The most common configurations used to study the cracking behavior for a tensile\n",
    " notched\n",
    "crack denoted as mode I are the wedge splitting test and notched, three-point\n",
    " three-point\n",
    "bending\n",
    "bending test. Both these tests aim at the characterization of the material behavior\n",
    "test?\n",
    "in terms of the softening law describing the relation between the tensile stress\n",
    "transmitted across the localization zone and the corresponding crack opening."
   ]
  },
  {
   "cell_type": "markdown",
   "id": "9ca6e083-3611-4543-b4ab-7581d16bb11b",
   "metadata": {},
   "source": [
    "Due to its simplicity, three-point-bending test of a notched concrete specimen has become \n",
    "a standard (RILEM) to determine the fracture energy $G_\\mathrm{F}$ characterizing the cracking behavior of concrete. The test induces a single crack in the notched section\n",
    "propagating straight upwards from the notch in a stable manner. The energy is\n",
    "dissipated in a local region in the crack vicinity so that it can be directly ascribed\n",
    "to the area of emerging crack surface."
   ]
  },
  {
   "cell_type": "markdown",
   "id": "cc72aaad-e575-4871-b07b-3857c4c41436",
   "metadata": {},
   "source": [
    "**Direct evaluation of the fracture energy:** Recalling that we can characterize\n",
    "the stable process of crack propagation by an amount of energy needed to produce\n",
    "a unit crack area, i.e. fracture energy $G_\\mathrm{F}$ , we can choose a more efficient and\n",
    "pragmatic approach determining the fracture energy directly from the test without\n",
    "having to perform numerical calibration. This is the idea behind the standardized\n",
    "characterization procedure proposed by the RILEM committee. "
   ]
  },
  {
   "attachments": {
    "2a126bc6-bc46-4a80-a831-c7c4558a709c.png": {
     "image/png": "[encoded data removed]"
    }
   },
   "cell_type": "markdown",
   "id": "700fc277-4f6f-4884-9968-e8a5b3da3da2",
   "metadata": {},
   "source": [
    "![image.png](attachment:2a126bc6-bc46-4a80-a831-c7c4558a709c.png)"
   ]
  },
  {
   "cell_type": "markdown",
   "id": "11f9b887-8efb-481a-97c9-d914cc22bdbf",
   "metadata": {},
   "source": [
    "Recall that at the\n",
    "point of failure, the whole energy has been consumed to produce the crack of \n",
    "surface area \n",
    "$$\n",
    "A = B \\, (H − a),\n",
    "$$\n",
    "where $H$ and $B$ denote the height and width of the beam\n",
    "and $a$ is the notch depth. Then, assuming uniform dissipation during a stable crack\n",
    "propagation we can set"
   ]
  },
  {
   "cell_type": "markdown",
   "id": "a52d4f2e-bddf-4204-8f5c-c2de22262900",
   "metadata": {},
   "source": [
    "$$\n",
    "G_\\mathrm{F} = \\dfrac{W}{B \\, (H-a)}\n",
    "$$"
   ]
  },
  {
   "cell_type": "markdown",
   "id": "83e3bd8a-ea1d-4354-8862-94919903624d",
   "metadata": {},
   "source": [
    "However, this simple approach would ignore the fact that self-weight of the beam\n",
    "also induced the initial deflection $w_0$. Neither the self-weight load, nor the corresponding\n",
    "deflection are included in the experimentally recorded curve. The situation can be  illustrated \n",
    "as follows in the load-deflection diagram. "
   ]
  },
  {
   "cell_type": "markdown",
   "id": "54583b11-9aa0-42f0-8c8a-b8449f011a88",
   "metadata": {},
   "source": [
    "![fw_Gf](../fig/F-w-Gf.png)"
   ]
  },
  {
   "cell_type": "markdown",
   "id": "8a4440c0-88b3-41eb-ae09-f946a9550017",
   "metadata": {},
   "source": [
    "In the test, only the area $W_1$ is measured. At point $w_0$, the specimen will actually break down because it cannot sustain its own weight. Therefore, the area $W_2$ is hidden. It can only estimated as an area of the rectangle"
   ]
  },
  {
   "cell_type": "markdown",
   "id": "786ae739-d7c6-4408-8f85-8924e9a52235",
   "metadata": {},
   "source": [
    "$$\n",
    "W_2 = F_0 w_0 = M g w_0\n",
    "$$\n",
    "where $F_0$ is the dead load given as the product of the weight of the beam between the supports $M$ and the gravity acceleration $g = 9.81 \\mathrm{[m/s^2]}$. "
   ]
  },
  {
   "cell_type": "markdown",
   "id": "fc54e22b-8a59-4969-a78d-96d8c48d093d",
   "metadata": {},
   "source": [
    "Thus, the true fracture energy obtained using the above test can be estimated as estimate\n",
    "$$\n",
    "G_\\mathrm{F} = \\dfrac{W_1 + M g w_0}{B\\, (H-a)}\n",
    "$$"
   ]
  },
  {
   "cell_type": "markdown",
   "id": "c6e46363-cf9c-41f6-b825-0029c3f24100",
   "metadata": {},
   "source": [
    "A simple remedy to avoid the effect of self weight is to compensate for the initial deflection by including an extra weight outside of the supports, for example by doubling the beam length."
   ]
  },
  {
   "attachments": {
    "5bd0c865-c036-4d9d-92f7-a62913836ebd.png": {
     "image/png": "[encoded data removed]"
    }
   },
   "cell_type": "markdown",
   "id": "5ae99fe1-9f58-427b-8f6d-0aab22d4fe42",
   "metadata": {},
   "source": [
    "![image.png](attachment:5bd0c865-c036-4d9d-92f7-a62913836ebd.png)"
   ]
  },
  {
   "cell_type": "markdown",
   "id": "140a89d6-d1ec-4c40-b5a8-8ded3314ad7d",
   "metadata": {},
   "source": [
    "A pioneering work showing the systematic experimental approach to the identification of fracture energy has been presented by [Petersson (1982)](https://portal.research.lu.se/portal/files/4705811/1785208.pdf). The report provides a clear explanation of the test parameters, e.g. notch depth, curing conditions,  and their influence on the determined value of fracture energy. It served as a basis for the current RILEM standards used for characterization of wide range of concrete materials, including mixtures with short fibers. "
   ]
  },
  {
   "cell_type": "markdown",
   "id": "39040612-3c39-4199-82fd-8373415ca035",
   "metadata": {},
   "source": [
    "The discussion above demonstrates an important aim of theoretical research: develop simple characterization procedures that can deliver model parameters even for advanced models. We use the fracture energy $G_\\mathrm{F}$ as an example of a successful effort, in which the theoretical development influenced the engineering practice by providing measures for standardization and comparability between various concrete mixtures in view of their quasi-brittleness."
   ]
  },
  {
   "cell_type": "markdown",
   "id": "c31d4885-a0c1-47e2-bab3-d669d5a72a0a",
   "metadata": {},
   "source": [
    "# **Size effect** "
   ]
  },
  {
   "cell_type": "markdown",
   "id": "22ff03a4-f0d8-4488-be03-6cc942340858",
   "metadata": {},
   "source": [
    "[![title](../fig/bmcs_video.png)](https://moodle.rwth-aachen.de/mod/page/view.php?id=643791)&nbsp;part 2"
   ]
  },
  {
   "cell_type": "markdown",
   "id": "d2c15296-1bfc-4ade-be72-24afc2e00f12",
   "metadata": {},
   "source": [
    "With the experimentally determined fracture energy at hand, and with a regularized model presented in we are now able to capture to predict the cracking response of a beam with modified dimensions and loading configuration. Even though that the model has only a limited range of validity, it can be used demonstrate and visualize an important phenomenon included in the behavior of concrete structures which must be considered also in engineering design rules."
   ]
  },
  {
   "cell_type": "markdown",
   "id": "cc368b86-39cf-4ae2-a1ce-e7fdac96ab35",
   "metadata": {},
   "source": [
    "The fact that the material softening leads to strain localization within a small dissipative zone around the propagating crack tip leads to a phenomenon called **size effect**. In simple terms, it states that the response of a structure cannot be simply scaled with its changed dimensions. Let us demonstrate this by performing a parametric study of the notched beam test in which we scale up the length and depth of the beam."
   ]
  },
  {
   "cell_type": "markdown",
   "id": "dace10e2-20c2-41f2-a8f5-7ac1dcdab463",
   "metadata": {},
   "source": [
    "Let us again revisit the simulation of the three-point bending test. We will keep the size of the crack band constant, i.e. $L_\\mathrm{cb} = 1~\\mathrm{[N/mm]}$. This means that in small and in large specimens, the crack propagation is governed by the same fracture energy. "
   ]
  },
  {
   "cell_type": "code",
   "execution_count": 1,
   "id": "9c8e5ecb-835c-4e66-b065-47731b39dfd8",
   "metadata": {},
   "outputs": [],
   "source": [
    "%matplotlib widget\n",
    "from bmcs_bending.bending3pt_2d import BendingTestModel\n",
    "from ibvpy.tmodel.mats2D import MATS2DScalarDamage"
   ]
  },
  {
   "cell_type": "markdown",
   "id": "9cab7dbf-adf5-4beb-a88c-36eb5d6ed2be",
   "metadata": {},
   "source": [
    "Because we will perform several simulations, let us produce several models which we may consider as virtual specimens. Therefore, a function called `new_bt` is defined to construct an instance of the `BendingTestModel`,\n",
    "This function has three parameters, `L`, `H`, and `a` representing the beam length, height and notch depth to introduce the scaling of dimensions in the parametric study. All other parameters are defined as constants within the function so that they are kept equal in all simulated specimens."
   ]
  },
  {
   "cell_type": "code",
   "execution_count": 7,
   "id": "b3afc77c-783e-44fe-acd1-e1e9b49f7841",
   "metadata": {},
   "outputs": [],
   "source": [
    "def new_bt(L, H, a):\n",
    "    E = 30000\n",
    "    f_ct = 3.3\n",
    "    kappa_0 = f_ct / E\n",
    "    bt = BendingTestModel(material_model='scalar damage', \n",
    "                          n_e_x=6, n_e_y=16, w_max=-2, k_max=1000)\n",
    "    bt.time_line.step=0.02\n",
    "    bt.history.warp_factor=100\n",
    "    bt.cross_section.trait_set(B=50)\n",
    "    bt.geometry.trait_set(L=L, H=H, a=a, L_cb=1);\n",
    "    bt.material_model_.trait_set(E = E, nu = 0.0) # note nu = 0.0 to avoid compressive failure\n",
    "    bt.material_model_.omega_fn = 'exp-slope'\n",
    "    bt.material_model_.omega_fn_.trait_set(kappa_0=kappa_0, kappa_f=0.0336)\n",
    "    bt.material_model_.trait_set(D_alg=0.95, eps_max=1);\n",
    "    return bt"
   ]
  },
  {
   "cell_type": "markdown",
   "id": "c78c8c7c-04fb-4c76-acc8-6b1dde0f90a3",
   "metadata": {},
   "source": [
    "The simulated specimens will be collected in a dictionary `bt_dict` with each entry accessible via a key `scale` denoting the multiplier used to scale the dimensions of the beam. "
   ]
  },
  {
   "cell_type": "code",
   "execution_count": 3,
   "id": "fc9dd650-71c2-4e76-8fb6-7bc8466558f3",
   "metadata": {},
   "outputs": [],
   "source": [
    "bt_dict = {}"
   ]
  },
  {
   "cell_type": "markdown",
   "id": "422009e9-386b-425e-a3d8-5ab58643212b",
   "metadata": {},
   "source": [
    "The reference dimensions are equal to the study performed previously. The scales are defined in the variable `scale_list`. "
   ]
  },
  {
   "cell_type": "code",
   "execution_count": 4,
   "id": "1cc2a58f-1799-466f-be57-fdbe9bd765e7",
   "metadata": {},
   "outputs": [
    {
     "name": "stdout",
     "output_type": "stream",
     "text": [
      "calculating F-w and G_total for scale = 0.5\n",
      "calculating F-w and G_total for scale = 1\n",
      "calculating F-w and G_total for scale = 2\n",
      "calculating F-w and G_total for scale = 4\n"
     ]
    }
   ],
   "source": [
    "import numpy as np\n",
    "scale_list = [0.5,1,2,4]\n",
    "L0 = 2000\n",
    "H0 = 200\n",
    "a0 = 50\n",
    "for scale in scale_list:\n",
    "    print('calculating F-w and G_total for scale = %g' % scale)\n",
    "    bt = new_bt(L=L0*scale, H=H0*scale, a=a0*scale)\n",
    "    try: \n",
    "        bt.run()\n",
    "    except StopIteration:\n",
    "        print('simulation interupted due to slow convergence', scale)\n",
    "    bt_dict[scale] = bt"
   ]
  },
  {
   "cell_type": "markdown",
   "id": "586ab9c5-ac3c-4f23-a397-fa52cc5cca26",
   "metadata": {},
   "source": [
    "<div style=\"background-color:lightgray;text-align:left\"> <img src=\"../icons/view.png\" alt=\"Run\" width=\"40\" height=\"40\">\n",
    "    &nbsp; &nbsp; <b>... let us put the results into a diagram</b> </div>"
   ]
  },
  {
   "cell_type": "markdown",
   "id": "6eb1db8a-f230-4fd5-83e1-2d6c8def2843",
   "metadata": {},
   "source": [
    "To evaluate the results, we want to collect the load deflection curves from each of the specimen stored in `bt_dict`. At the same time, we shall extract the value of the dissipated energy.  "
   ]
  },
  {
   "cell_type": "code",
   "execution_count": 5,
   "id": "a3fc049f-480f-4615-ae09-fa3135f5596f",
   "metadata": {},
   "outputs": [
    {
     "data": {
      "application/vnd.jupyter.widget-view+json": {
       "model_id": "7b29635594fa4a90afb2a15f54024c86",
       "version_major": 2,
       "version_minor": 0
      },
      "text/plain": [
       "Canvas(toolbar=Toolbar(toolitems=[('Home', 'Reset original view', 'home', 'home'), ('Back', 'Back to previous …"
      ]
     },
     "metadata": {},
     "output_type": "display_data"
    }
   ],
   "source": [
    "import numpy as np\n",
    "import matplotlib.pylab as plt\n",
    "fig, (ax, ax_G) = plt.subplots(1,2, figsize=(8,3), tight_layout=True)\n",
    "fig.canvas.header_visible=False\n",
    "F_w_list = [bt_dict[scale].hist['Fw'].Fw for scale in scale_list ]\n",
    "for scale, (F, w) in zip(scale_list, F_w_list):\n",
    "    ax.plot(-w,-F,label='scale = %g' % scale)\n",
    "ax.legend()\n",
    "ax.set_xlabel(r'$w$ [mm]');\n",
    "ax.set_ylabel(r'$F$ [N]');\n",
    "G_list = [bt_dict[scale].hist['energy'].G_t[-1] for scale in scale_list]\n",
    "U_bar_list = [np.max(bt_dict[scale].hist['energy'].U_bar_t) for scale in scale_list]\n",
    "ax_G.plot(scale_list, G_list, marker='H', label=r'$G_\\mathrm{total}$')\n",
    "ax_G.plot(scale_list, U_bar_list, color='green', marker='H', label=r'$\\mathcal{U}$')\n",
    "ax_G.set_xlabel(r'$\\mathrm{scale}$ [-]')\n",
    "ax_G.set_ylabel(r'$G_\\mathrm{total}$ [kJ]');\n",
    "ax_G.set_ylim(ymin=0, ymax=1.1 * np.max(G_list));\n",
    "ax_F = ax_G.twinx()\n",
    "F_max_list = [np.max(-F) for F, w in F_w_list]\n",
    "ax_F.plot(scale_list, F_max_list, marker='H', color='orange', label=r'$F_\\max$');\n",
    "ax_F.set_ylabel(r'$F_\\max$ [N]');\n",
    "ax_G.legend(loc=2)\n",
    "ax_F.legend(loc=4);"
   ]
  },
  {
   "cell_type": "markdown",
   "id": "0de95815-5b6e-4f9a-adc8-6a7c58a354b0",
   "metadata": {},
   "source": [
    " - The total energy dissipation $G_\\mathrm{total}$ increases proportionally to the cross sectional area\n",
    " - The maximum stored energy $\\max({\\mathcal{U}})$ is increasing non-proportionally to the cross sectional area\n",
    " - The ultimate load **does not** increase proportionally to the cross sectional area \n",
    " - Large specimens exhibit more brittle failure than small specimens"
   ]
  },
  {
   "cell_type": "markdown",
   "id": "8ae3d1c5-4624-41a6-a6fd-2cfa267e263d",
   "metadata": {},
   "source": [
    "A larger amount of energy stored within the elastic parts of the specimen accelerates the failure process. In a post peak regime, it acts as an additional load within the dissipative zones. When we change the size of the specimen, the size of the fracture process zone does not change. However, the material volume which stores energy increases. This means that the ratio between $G_\\mathrm{F}$, needed to make a crack of a unit area stress free, and the stored energy driving the unloading process of surrounding elastic material changes. This ratio controls the brittleness of the structural response."
   ]
  },
  {
   "cell_type": "code",
   "execution_count": 6,
   "id": "b3a51580-57c7-4c51-b4a7-17a044450d6a",
   "metadata": {},
   "outputs": [
    {
     "data": {
      "application/vnd.jupyter.widget-view+json": {
       "model_id": "12d662e375cf4fc6a1c83253124f2245",
       "version_major": 2,
       "version_minor": 0
      },
      "text/plain": [
       "VBox(children=(HBox(children=(VBox(children=(Tree(layout=Layout(align_items='stretch', border='solid 1px black…"
      ]
     },
     "metadata": {},
     "output_type": "display_data"
    }
   ],
   "source": [
    "bt_dict[2].interact()"
   ]
  },
  {
   "cell_type": "markdown",
   "id": "f2378b06-34a0-4cfa-b165-4bffd5c8273c",
   "metadata": {},
   "source": [
    "<div style=\"background-color:lightgray;text-align:left\"> <img src=\"../icons/exercise.png\" alt=\"Run\" width=\"50\" height=\"50\">\n",
    "    &nbsp; &nbsp; <a href=\"../exercises/X0701_Identification of the fracture energy.pdf\"><b>Exercise X0701:</b></a> <b>Evaluation of fracture energy</b> \n",
    "</div>"
   ]
  },
  {
   "cell_type": "markdown",
   "id": "af32baab-4840-48ab-896a-baffbc7c6983",
   "metadata": {},
   "source": [
    "<div style=\"background-color:lightgray;text-align:left;width:45%;display:inline-table;\"> <img src=\"../icons/previous.png\" alt=\"Previous trip\" width=\"50\" height=\"50\">\n",
    "    &nbsp; <a href=\"../tour7_cracking/7_1_bending3pt_2d.ipynb#top\">7.1 Straight crack propagation</a> \n",
    "</div><div style=\"background-color:lightgray;text-align:center;width:10%;display:inline-table;\"> <a href=\"#top\"><img src=\"../icons/compass.png\" alt=\"Compass\" width=\"50\" height=\"50\"></a></div><div style=\"background-color:lightgray;text-align:right;width:45%;display:inline-table;\"> \n",
    "    <a href=\"../tour8_bending/8_1_reinforced_beam.ipynb#top\">8.1 Reinforced beam bending</a>&nbsp; <img src=\"../icons/next.png\" alt=\"Previous trip\" width=\"50\" height=\"50\"> </div> "
   ]
  }
 ],
 "metadata": {
  "kernelspec": {
   "display_name": "bmcs_env",
   "language": "python",
   "name": "bmcs_env"
  },
  "language_info": {
   "codemirror_mode": {
    "name": "ipython",
    "version": 3
   },
   "file_extension": ".py",
   "mimetype": "text/x-python",
   "name": "python",
   "nbconvert_exporter": "python",
   "pygments_lexer": "ipython3",
   "version": "3.9.0"
  }
 },
 "nbformat": 4,
 "nbformat_minor": 5
}
